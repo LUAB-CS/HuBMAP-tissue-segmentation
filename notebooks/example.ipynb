{
 "cells": [
  {
   "attachments": {},
   "cell_type": "markdown",
   "metadata": {},
   "source": [
    "Ma proposition : \n",
    "Avoir un Notebook template associé à des paramètres par défaut. \n",
    "Ensuite pour chaque expérience on le duplique, et on change les valeurs des paramètres que l'on souhaite."
   ]
  },
  {
   "cell_type": "code",
   "execution_count": 8,
   "metadata": {},
   "outputs": [
    {
     "data": {
      "text/plain": [
       "{'experiment_title': 'write here the purpose of your experiment',\n",
       " 'dataset': {'script_path': '../data_processing/A_COMPLETER.py'},\n",
       " 'model': {'script_path': '../models/A_COMPLETER.py'},\n",
       " 'optimizer': {'script_path': '../optimizers/adam_keras.py',\n",
       "  'initial_lr': 0.0001},\n",
       " 'train': {'script_path': '../train/A_COMPLETER.py',\n",
       "  'batch_size': 64,\n",
       "  'epochs': 1000,\n",
       "  'data_augmentation': {'samplewise_center': False,\n",
       "   'samplewise_std_normalization': False,\n",
       "   'rotation_range': 0,\n",
       "   'width_shift_range': 0.1,\n",
       "   'height_shift_range': 0.1,\n",
       "   'horizontal_flip': True,\n",
       "   'vertical_flip': False,\n",
       "   'zoom_range': 0,\n",
       "   'shear_range': 0,\n",
       "   'channel_shift_range': 0,\n",
       "   'featurewise_center': False,\n",
       "   'zca_whitening': False}},\n",
       " 'evaluate': {'batch_size': 1000,\n",
       "  'augmentation_factor': 32,\n",
       "  'data_augmentation': {'samplewise_center': False,\n",
       "   'samplewise_std_normalization': False,\n",
       "   'rotation_range': 0,\n",
       "   'width_shift_range': 0.15,\n",
       "   'height_shift_range': 0.15,\n",
       "   'horizontal_flip': True,\n",
       "   'vertical_flip': False,\n",
       "   'zoom_range': 0,\n",
       "   'shear_range': 0,\n",
       "   'channel_shift_range': 0,\n",
       "   'featurewise_center': False,\n",
       "   'zca_whitening': False}}}"
      ]
     },
     "execution_count": 8,
     "metadata": {},
     "output_type": "execute_result"
    }
   ],
   "source": [
    "import yaml\n",
    "with open('../configs/default_params.yaml') as default_params_file:\n",
    "      default_params = yaml.safe_load(default_params_file)\n",
    "params = default_params\n",
    "params"
   ]
  },
  {
   "cell_type": "code",
   "execution_count": 9,
   "metadata": {},
   "outputs": [
    {
     "data": {
      "text/plain": [
       "{'script_path': '../train/A_COMPLETER.py',\n",
       " 'batch_size': 10,\n",
       " 'epochs': 1000,\n",
       " 'data_augmentation': {'samplewise_center': False,\n",
       "  'samplewise_std_normalization': False,\n",
       "  'rotation_range': 0,\n",
       "  'width_shift_range': 0.1,\n",
       "  'height_shift_range': 0.1,\n",
       "  'horizontal_flip': True,\n",
       "  'vertical_flip': False,\n",
       "  'zoom_range': 0,\n",
       "  'shear_range': 0,\n",
       "  'channel_shift_range': 0,\n",
       "  'featurewise_center': False,\n",
       "  'zca_whitening': False}}"
      ]
     },
     "execution_count": 9,
     "metadata": {},
     "output_type": "execute_result"
    }
   ],
   "source": [
    "# Changer de paramètres\n",
    "params[\"train\"][\"batch_size\"] = 16\n",
    "params[\"train\"]"
   ]
  },
  {
   "attachments": {},
   "cell_type": "markdown",
   "metadata": {},
   "source": [
    "# Create Dataset and Dataloader"
   ]
  },
  {
   "cell_type": "code",
   "execution_count": null,
   "metadata": {},
   "outputs": [],
   "source": [
    "import data_processing\n",
    "from torch.utils.data import DataLoader\n",
    "\n",
    "data_dir = 'data'\n",
    "train_dataset = data_processing.dataset.CustomDataset(root_dir = data_dir)\n",
    "\n",
    "train_dl = DataLoader(train_dataset, batch_size=2**12, shuffle=True)"
   ]
  },
  {
   "attachments": {},
   "cell_type": "markdown",
   "metadata": {},
   "source": [
    "Train"
   ]
  },
  {
   "cell_type": "code",
   "execution_count": null,
   "metadata": {},
   "outputs": [],
   "source": [
    "import models\n",
    "import optim\n",
    "import torch.nn\n",
    "MODEL = models.Unet.Unet(num_classes=2)\n",
    "\n",
    "lr = 1e-3\n",
    "optimizer = optim.Adam(MODEL.parameters(), lr=lr)\n",
    "loss = nn.MSELoss()\n",
    "optimizer"
   ]
  },
  {
   "cell_type": "code",
   "execution_count": null,
   "metadata": {},
   "outputs": [],
   "source": [
    "import train\n",
    "\n",
    "train.train.main_train(model=MODEL, loss_fn=loss, optimizer=optimizer, n_epochs=2, dataloader=train_dl, device=\"cpu\")"
   ]
  },
  {
   "attachments": {},
   "cell_type": "markdown",
   "metadata": {},
   "source": [
    "# Evaluation\n",
    "\n",
    "Running model on validation dataset"
   ]
  },
  {
   "cell_type": "code",
   "execution_count": null,
   "metadata": {},
   "outputs": [],
   "source": [
    "train_dataloader = None\n",
    "model = None\n",
    "val_pred = {\"val_images\":[], \"val_masks\":[], \"val_organs\":[], \"val_y_preds\":[]}\n",
    "for k, X in enumerate(train_dataloader):\n",
    "    for val_image, val_mask, val_organ in X :\n",
    "        val_pred['val_images'].append(val_image)\n",
    "        val_pred['val_mask'].append(val_mask)\n",
    "        val_pred['val_organ'].append(val_organ)\n",
    "        pred = model(val_image)\n",
    "        val_pred['val_y_preds'].append(pred)"
   ]
  },
  {
   "cell_type": "code",
   "execution_count": null,
   "metadata": {},
   "outputs": [],
   "source": [
    "import evaluation as eval\n",
    "\n",
    "IoUs, IoUsOrgans = eval.get_y_true_y_pred(val_pred)\n",
    "\n",
    "# Plot results for different threshold on all training and get best threshold\n",
    "best_threshold = eval.plot_iou_by_threshold(IoUs, 'test')"
   ]
  },
  {
   "attachments": {},
   "cell_type": "markdown",
   "metadata": {},
   "source": [
    "We can also look at some of the results"
   ]
  },
  {
   "cell_type": "code",
   "execution_count": null,
   "metadata": {},
   "outputs": [],
   "source": [
    "eval.plot_validation_predictions(val_pred, best_threshold, 10)"
   ]
  },
  {
   "attachments": {},
   "cell_type": "markdown",
   "metadata": {},
   "source": [
    "# Submission"
   ]
  },
  {
   "cell_type": "code",
   "execution_count": null,
   "metadata": {},
   "outputs": [],
   "source": [
    "import submission as sub\n",
    "\n",
    "test_dataset = None\n",
    "sub.make_submission(model, test_dataset, best_threshold)"
   ]
  }
 ],
 "metadata": {
  "kernelspec": {
   "display_name": "dlnlpenv",
   "language": "python",
   "name": "python3"
  },
  "language_info": {
   "codemirror_mode": {
    "name": "ipython",
    "version": 3
   },
   "file_extension": ".py",
   "mimetype": "text/x-python",
   "name": "python",
   "nbconvert_exporter": "python",
   "pygments_lexer": "ipython3",
   "version": "3.10.8"
  },
  "orig_nbformat": 4
 },
 "nbformat": 4,
 "nbformat_minor": 2
}
