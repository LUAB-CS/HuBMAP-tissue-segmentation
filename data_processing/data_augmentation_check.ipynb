{
 "cells": [
  {
   "cell_type": "code",
   "execution_count": 1,
   "metadata": {},
   "outputs": [
    {
     "name": "stderr",
     "output_type": "stream",
     "text": [
      "c:\\Users\\lutra\\AppData\\Local\\Programs\\Python\\Python310\\lib\\site-packages\\tqdm\\auto.py:22: TqdmWarning: IProgress not found. Please update jupyter and ipywidgets. See https://ipywidgets.readthedocs.io/en/stable/user_install.html\n",
      "  from .autonotebook import tqdm as notebook_tqdm\n"
     ]
    }
   ],
   "source": [
    "import os\n",
    "import numpy as np\n",
    "import pandas as pd\n",
    "import cv2\n",
    "import tifffile\n",
    "import torch\n",
    "import matplotlib.pyplot as plt\n",
    "import torchvision.transforms.functional as F\n",
    "import torchvision.transforms as transforms\n",
    "import random as r"
   ]
  },
  {
   "attachments": {},
   "cell_type": "markdown",
   "metadata": {},
   "source": [
    "Image pour le sanity check des fonctions"
   ]
  },
  {
   "cell_type": "code",
   "execution_count": 2,
   "metadata": {},
   "outputs": [],
   "source": [
    "image_dir = '../data/train_images'\n",
    "mask_dir = '../data/train_masks'\n",
    "\n",
    "image_id = '10044'\n",
    "\n",
    "image_path = os.path.join(image_dir, '{}.tiff'.format(image_id))\n",
    "mask_path = os.path.join(mask_dir, '{}.tiff'.format(image_id))    \n",
    "image = tifffile.imread(image_path)\n",
    "mask = tifffile.imread(mask_path)\n",
    "image = torch.tensor(image)\n",
    "mask = torch.tensor(mask)\n"
   ]
  },
  {
   "attachments": {},
   "cell_type": "markdown",
   "metadata": {},
   "source": [
    "Fonction  d'affichage"
   ]
  },
  {
   "cell_type": "code",
   "execution_count": 3,
   "metadata": {},
   "outputs": [],
   "source": [
    "def show_image(item,cmaps='coolwarm_r'):\n",
    "    image, mask = item\n",
    "    fig, ax = plt.subplots(nrows=2, ncols=1, figsize=(16, 32))\n",
    "    hybr = image[:, :,0]/2 + mask[:, :]\n",
    "\n",
    "    ax[0].imshow(image)\n",
    "    ax[0].axis('off')\n",
    "    ax[0].set_title('IMAGE')\n",
    "    ax[1].imshow(hybr,cmap=cmaps)\n",
    "    ax[1].axis('off')\n",
    "    ax[1].set_title('MASK ON IMAGE')\n",
    "    plt.show()   "
   ]
  },
  {
   "cell_type": "code",
   "execution_count": 4,
   "metadata": {},
   "outputs": [],
   "source": [
    "#show_image((image,mask))"
   ]
  },
  {
   "cell_type": "code",
   "execution_count": null,
   "metadata": {},
   "outputs": [],
   "source": []
  },
  {
   "attachments": {},
   "cell_type": "markdown",
   "metadata": {},
   "source": [
    "Flip"
   ]
  },
  {
   "cell_type": "code",
   "execution_count": 5,
   "metadata": {},
   "outputs": [],
   "source": [
    "class RandomFlip(object):\n",
    "\n",
    "\n",
    "    def __call__(self, item):\n",
    "        image, mask = item\n",
    "        if r.random() > 0.5:\n",
    "            return item\n",
    "        image = image.flip(dims=0)\n",
    "        mask = mask.flip(dims=0)\n",
    "        return (image,mask)\n",
    "\n",
    "\n",
    "#show_image(RandomFlip()((image,mask)))"
   ]
  },
  {
   "attachments": {},
   "cell_type": "markdown",
   "metadata": {},
   "source": [
    "Rotation de 90"
   ]
  },
  {
   "cell_type": "code",
   "execution_count": 6,
   "metadata": {},
   "outputs": [],
   "source": [
    "class RandomRotation(object):\n",
    "\n",
    "    def angle(self):\n",
    "        #Sens de rotation\n",
    "        return r.uniform(-180,180)\n",
    "    \n",
    "    def __call__(self,item):\n",
    "        image,mask = item\n",
    "        angle = self.angle()\n",
    "        image = image.permute(2,0,1)\n",
    "        image = F.rotate(image,angle=angle)\n",
    "        image = image.permute(1,2,0)\n",
    "        mask = F.rotate(mask[None,:],angle)\n",
    "        return (image,mask.squeeze())\n",
    "    \n",
    "#show_image(RandomRotation()((image,mask)))"
   ]
  },
  {
   "attachments": {},
   "cell_type": "markdown",
   "metadata": {},
   "source": [
    "Saturation, Contrast, Brightness"
   ]
  },
  {
   "cell_type": "code",
   "execution_count": 7,
   "metadata": {},
   "outputs": [],
   "source": [
    "class CustomColorJitter(object):\n",
    "\n",
    "    def __init__(self,brightness = 0.3, hue = 0.3, saturation = 0.3):\n",
    "        self.brightness = brightness\n",
    "        self.hue = hue\n",
    "        self.saturation = saturation\n",
    "\n",
    "    def __call__(self,item):\n",
    "        image, mask = item\n",
    "        image = image.permute(2,0,1)\n",
    "        image = transforms.ColorJitter(brightness=self.brightness,hue=self.hue,saturation=self.saturation)(image)\n",
    "        image = image.permute(1,2,0)\n",
    "        return (image,mask)\n",
    "\n",
    "#show_image(CustomColorJitter()((image,mask)))\n",
    "        "
   ]
  },
  {
   "attachments": {},
   "cell_type": "markdown",
   "metadata": {},
   "source": [
    "Blur"
   ]
  },
  {
   "cell_type": "code",
   "execution_count": 8,
   "metadata": {},
   "outputs": [],
   "source": [
    "class RandomBlur(object):\n",
    "\n",
    "    def __init__(self, kernel_size=25, blurred_ratio = 0.2):\n",
    "        self.kernel_size = kernel_size\n",
    "        self.blurred_ratio = blurred_ratio\n",
    "\n",
    "    def __call__(self,item):\n",
    "        image, mask = item\n",
    "        if r.random() > self.blurred_ratio:\n",
    "            return item\n",
    "        image = image.permute(2,0,1)\n",
    "        image = F.gaussian_blur(image,kernel_size=self.kernel_size)\n",
    "        image = image.permute(1,2,0)\n",
    "        return (image,mask)\n",
    "\n",
    "#show_image(RandomBlur()((image,mask)))"
   ]
  },
  {
   "attachments": {},
   "cell_type": "markdown",
   "metadata": {},
   "source": [
    "Toutes les transformations d'un coup"
   ]
  },
  {
   "cell_type": "code",
   "execution_count": 9,
   "metadata": {},
   "outputs": [],
   "source": [
    "data_transform = transforms.Compose([\n",
    "    RandomFlip(),\n",
    "    RandomRotation(),\n",
    "    CustomColorJitter(),\n",
    "    RandomBlur()\n",
    "])\n",
    "\n",
    "#show_image(data_transform((image,mask)))"
   ]
  },
  {
   "cell_type": "code",
   "execution_count": null,
   "metadata": {},
   "outputs": [],
   "source": []
  },
  {
   "cell_type": "code",
   "execution_count": null,
   "metadata": {},
   "outputs": [],
   "source": []
  },
  {
   "cell_type": "code",
   "execution_count": null,
   "metadata": {},
   "outputs": [],
   "source": []
  },
  {
   "cell_type": "code",
   "execution_count": null,
   "metadata": {},
   "outputs": [],
   "source": []
  },
  {
   "cell_type": "code",
   "execution_count": null,
   "metadata": {},
   "outputs": [],
   "source": []
  },
  {
   "cell_type": "code",
   "execution_count": null,
   "metadata": {},
   "outputs": [],
   "source": []
  },
  {
   "cell_type": "code",
   "execution_count": null,
   "metadata": {},
   "outputs": [],
   "source": []
  },
  {
   "cell_type": "code",
   "execution_count": null,
   "metadata": {},
   "outputs": [],
   "source": []
  }
 ],
 "metadata": {
  "kernelspec": {
   "display_name": "Python 3",
   "language": "python",
   "name": "python3"
  },
  "language_info": {
   "codemirror_mode": {
    "name": "ipython",
    "version": 3
   },
   "file_extension": ".py",
   "mimetype": "text/x-python",
   "name": "python",
   "nbconvert_exporter": "python",
   "pygments_lexer": "ipython3",
   "version": "3.10.0"
  },
  "orig_nbformat": 4,
  "vscode": {
   "interpreter": {
    "hash": "0042832b8a36d29c1598d86a1f1fe1a5e631780beccf7ae5a151f0a3ebd20b55"
   }
  }
 },
 "nbformat": 4,
 "nbformat_minor": 2
}
