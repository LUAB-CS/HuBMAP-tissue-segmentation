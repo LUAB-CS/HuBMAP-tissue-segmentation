{
 "cells": [
  {
   "cell_type": "code",
   "execution_count": null,
   "metadata": {},
   "outputs": [],
   "source": [
    "import os\n",
    "import numpy as np\n",
    "import pandas as pd\n",
    "import cv2\n",
    "import tifffile\n",
    "import torch\n",
    "import matplotlib.pyplot as plt\n",
    "import torchvision.transforms.functional as F\n",
    "import torchvision.transforms as transforms\n",
    "import random as r\n",
    "from dataset import CustomDataset"
   ]
  },
  {
   "attachments": {},
   "cell_type": "markdown",
   "metadata": {},
   "source": [
    "Image pour le sanity check des fonctions"
   ]
  },
  {
   "cell_type": "code",
   "execution_count": null,
   "metadata": {},
   "outputs": [],
   "source": [
    "root_dir = '../data/'\n",
    "\n",
    "image_id = 62\n",
    "\n",
    "dataset = CustomDataset(root_dir, 1024)\n",
    "\n",
    "image, _, mask = dataset[image_id]\n"
   ]
  },
  {
   "attachments": {},
   "cell_type": "markdown",
   "metadata": {},
   "source": [
    "Fonction  d'affichage"
   ]
  },
  {
   "cell_type": "code",
   "execution_count": null,
   "metadata": {},
   "outputs": [],
   "source": [
    "def show_image(item,cmaps='coolwarm_r'):\n",
    "    image, mask = item\n",
    "    fig, ax = plt.subplots(nrows=2, ncols=1, figsize=(16, 32))\n",
    "    hybr = image[0, :, :]/2 + mask[:, :]\n",
    "\n",
    "    ax[0].imshow(image.permute(1,2,0))\n",
    "    ax[0].axis('off')\n",
    "    ax[0].set_title('IMAGE')\n",
    "    ax[1].imshow(hybr.permute(1,2,0),cmap=cmaps)\n",
    "    ax[1].axis('off')\n",
    "    ax[1].set_title('MASK ON IMAGE')\n",
    "    plt.show()"
   ]
  },
  {
   "cell_type": "code",
   "execution_count": null,
   "metadata": {},
   "outputs": [],
   "source": [
    "show_image((image,mask))"
   ]
  },
  {
   "attachments": {},
   "cell_type": "markdown",
   "metadata": {},
   "source": [
    "Flip"
   ]
  },
  {
   "cell_type": "code",
   "execution_count": null,
   "metadata": {},
   "outputs": [],
   "source": [
    "class RandomHorizontalFlip(object):\n",
    "\n",
    "\n",
    "    def __call__(self, item):\n",
    "        image, mask = item\n",
    "        if r.random() > 0.5:\n",
    "            return item\n",
    "        image = image.flip(dims=(1,))\n",
    "        mask = mask.flip(dims=(1,))\n",
    "        return (image,mask)\n",
    "\n",
    "\n",
    "show_image(RandomHorizontalFlip()((image,mask)))"
   ]
  },
  {
   "cell_type": "code",
   "execution_count": null,
   "metadata": {},
   "outputs": [],
   "source": [
    "class RandomVerticalFlip(object):\n",
    "\n",
    "    def __call__(self, item):\n",
    "        image, mask = item\n",
    "        if r.random() > 0.5:\n",
    "            return item\n",
    "        image = image.flip(dims=(2,))\n",
    "        mask = mask.flip(dims=(2,))\n",
    "        return (image,mask)\n",
    "\n",
    "\n",
    "show_image(RandomVerticalFlip()((image,mask)))"
   ]
  },
  {
   "attachments": {},
   "cell_type": "markdown",
   "metadata": {},
   "source": [
    "Rotation de 90"
   ]
  },
  {
   "cell_type": "code",
   "execution_count": null,
   "metadata": {},
   "outputs": [],
   "source": [
    "class RandomRotation(object):\n",
    "\n",
    "    def angle(self):\n",
    "        #Sens de rotation\n",
    "        return r.uniform(-180,180)\n",
    "\n",
    "    def __call__(self,item):\n",
    "        image,mask = item\n",
    "        angle = self.angle()\n",
    "        image = F.rotate(image,angle=angle)\n",
    "        mask = F.rotate(mask,angle)\n",
    "        return (image,mask)\n",
    "\n",
    "show_image(RandomRotation()((image,mask)))"
   ]
  },
  {
   "attachments": {},
   "cell_type": "markdown",
   "metadata": {},
   "source": [
    "Saturation, Contrast, Brightness"
   ]
  },
  {
   "cell_type": "code",
   "execution_count": null,
   "metadata": {},
   "outputs": [],
   "source": [
    "class CustomColorJitter(object):\n",
    "\n",
    "    def __init__(self,brightness = 0.3, hue = 0.3, saturation = 0.3):\n",
    "        self.brightness = brightness\n",
    "        self.hue = hue\n",
    "        self.saturation = saturation\n",
    "\n",
    "    def __call__(self,item):\n",
    "        image, mask = item\n",
    "        image = transforms.ColorJitter(brightness=self.brightness,hue=self.hue,saturation=self.saturation)(image)\n",
    "        return (image,mask)\n",
    "\n",
    "show_image(CustomColorJitter()((image,mask)))"
   ]
  },
  {
   "attachments": {},
   "cell_type": "markdown",
   "metadata": {},
   "source": [
    "Blur"
   ]
  },
  {
   "cell_type": "code",
   "execution_count": null,
   "metadata": {},
   "outputs": [],
   "source": [
    "class RandomBlur(object):\n",
    "\n",
    "    def __init__(self, kernel_size=25, blurred_ratio = 0.2):\n",
    "        self.kernel_size = kernel_size\n",
    "        self.blurred_ratio = blurred_ratio\n",
    "\n",
    "    def __call__(self,item):\n",
    "        image, mask = item\n",
    "        if r.random() > self.blurred_ratio:\n",
    "            return item\n",
    "        image = F.gaussian_blur(image,kernel_size=self.kernel_size)\n",
    "        return (image,mask)\n",
    "\n",
    "show_image(RandomBlur()((image,mask)))"
   ]
  },
  {
   "attachments": {},
   "cell_type": "markdown",
   "metadata": {},
   "source": [
    "Toutes les transformations d'un coup"
   ]
  },
  {
   "cell_type": "code",
   "execution_count": null,
   "metadata": {},
   "outputs": [],
   "source": [
    "data_transform = transforms.Compose([\n",
    "    RandomVerticalFlip(),\n",
    "    RandomHorizontalFlip(),\n",
    "    RandomRotation(),\n",
    "    CustomColorJitter(),\n",
    "    RandomBlur()\n",
    "])\n",
    "\n",
    "show_image(data_transform((image,mask)))"
   ]
  },
  {
   "cell_type": "code",
   "execution_count": null,
   "metadata": {},
   "outputs": [],
   "source": []
  },
  {
   "cell_type": "code",
   "execution_count": null,
   "metadata": {},
   "outputs": [],
   "source": []
  },
  {
   "cell_type": "code",
   "execution_count": null,
   "metadata": {},
   "outputs": [],
   "source": []
  },
  {
   "cell_type": "code",
   "execution_count": null,
   "metadata": {},
   "outputs": [],
   "source": []
  },
  {
   "cell_type": "code",
   "execution_count": null,
   "metadata": {},
   "outputs": [],
   "source": []
  },
  {
   "cell_type": "code",
   "execution_count": null,
   "metadata": {},
   "outputs": [],
   "source": []
  },
  {
   "cell_type": "code",
   "execution_count": null,
   "metadata": {},
   "outputs": [],
   "source": []
  },
  {
   "cell_type": "code",
   "execution_count": null,
   "metadata": {},
   "outputs": [],
   "source": []
  }
 ],
 "metadata": {
  "kernelspec": {
   "display_name": "Python 3",
   "language": "python",
   "name": "python3"
  },
  "language_info": {
   "codemirror_mode": {
    "name": "ipython",
    "version": 3
   },
   "file_extension": ".py",
   "mimetype": "text/x-python",
   "name": "python",
   "nbconvert_exporter": "python",
   "pygments_lexer": "ipython3",
   "version": "3.10.6"
  },
  "orig_nbformat": 4,
  "vscode": {
   "interpreter": {
    "hash": "0042832b8a36d29c1598d86a1f1fe1a5e631780beccf7ae5a151f0a3ebd20b55"
   }
  }
 },
 "nbformat": 4,
 "nbformat_minor": 2
}
